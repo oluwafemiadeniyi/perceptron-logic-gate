{
 "cells": [
  {
   "cell_type": "code",
   "execution_count": 1,
   "id": "973cf68a",
   "metadata": {},
   "outputs": [],
   "source": [
    "#import libraries\n",
    "from sklearn.linear_model import Perceptron\n",
    "import matplotlib.pyplot as plt\n",
    "import numpy as np\n",
    "from itertools import product"
   ]
  },
  {
   "cell_type": "code",
   "execution_count": null,
   "id": "7a406d05",
   "metadata": {},
   "outputs": [],
   "source": [
    "#create AND's logic gates data\n",
    "data=[[0,0],[1,1],[0,1],[1,0]]\n",
    "labels=[0,1,0,0]\n",
    "plt.scatter([points[0] for points in data],)"
   ]
  }
 ],
 "metadata": {
  "kernelspec": {
   "display_name": "Python 3 (ipykernel)",
   "language": "python",
   "name": "python3"
  },
  "language_info": {
   "codemirror_mode": {
    "name": "ipython",
    "version": 3
   },
   "file_extension": ".py",
   "mimetype": "text/x-python",
   "name": "python",
   "nbconvert_exporter": "python",
   "pygments_lexer": "ipython3",
   "version": "3.9.13"
  }
 },
 "nbformat": 4,
 "nbformat_minor": 5
}
